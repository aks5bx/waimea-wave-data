{
  "cells": [
    {
      "cell_type": "markdown",
      "metadata": {
        "id": "TNHW1XLvxgLM"
      },
      "source": [
        "# **Setup**"
      ]
    },
    {
      "cell_type": "markdown",
      "metadata": {
        "id": "5d2KBvJ_xgLO"
      },
      "source": [
        "## Libraries and Notebook Settings"
      ]
    },
    {
      "cell_type": "code",
      "source": [
        "!pip install shap"
      ],
      "metadata": {
        "colab": {
          "base_uri": "https://localhost:8080/"
        },
        "id": "6hdhUNq1xtrc",
        "outputId": "de83a42f-1db3-43d1-8b06-2c4e2367a067"
      },
      "execution_count": 1,
      "outputs": [
        {
          "output_type": "stream",
          "name": "stdout",
          "text": [
            "Looking in indexes: https://pypi.org/simple, https://us-python.pkg.dev/colab-wheels/public/simple/\n",
            "Requirement already satisfied: shap in /usr/local/lib/python3.10/dist-packages (0.41.0)\n",
            "Requirement already satisfied: numpy in /usr/local/lib/python3.10/dist-packages (from shap) (1.22.4)\n",
            "Requirement already satisfied: scipy in /usr/local/lib/python3.10/dist-packages (from shap) (1.10.1)\n",
            "Requirement already satisfied: scikit-learn in /usr/local/lib/python3.10/dist-packages (from shap) (1.2.2)\n",
            "Requirement already satisfied: pandas in /usr/local/lib/python3.10/dist-packages (from shap) (1.5.3)\n",
            "Requirement already satisfied: tqdm>4.25.0 in /usr/local/lib/python3.10/dist-packages (from shap) (4.65.0)\n",
            "Requirement already satisfied: packaging>20.9 in /usr/local/lib/python3.10/dist-packages (from shap) (23.1)\n",
            "Requirement already satisfied: slicer==0.0.7 in /usr/local/lib/python3.10/dist-packages (from shap) (0.0.7)\n",
            "Requirement already satisfied: numba in /usr/local/lib/python3.10/dist-packages (from shap) (0.56.4)\n",
            "Requirement already satisfied: cloudpickle in /usr/local/lib/python3.10/dist-packages (from shap) (2.2.1)\n",
            "Requirement already satisfied: llvmlite<0.40,>=0.39.0dev0 in /usr/local/lib/python3.10/dist-packages (from numba->shap) (0.39.1)\n",
            "Requirement already satisfied: setuptools in /usr/local/lib/python3.10/dist-packages (from numba->shap) (67.7.2)\n",
            "Requirement already satisfied: python-dateutil>=2.8.1 in /usr/local/lib/python3.10/dist-packages (from pandas->shap) (2.8.2)\n",
            "Requirement already satisfied: pytz>=2020.1 in /usr/local/lib/python3.10/dist-packages (from pandas->shap) (2022.7.1)\n",
            "Requirement already satisfied: joblib>=1.1.1 in /usr/local/lib/python3.10/dist-packages (from scikit-learn->shap) (1.2.0)\n",
            "Requirement already satisfied: threadpoolctl>=2.0.0 in /usr/local/lib/python3.10/dist-packages (from scikit-learn->shap) (3.1.0)\n",
            "Requirement already satisfied: six>=1.5 in /usr/local/lib/python3.10/dist-packages (from python-dateutil>=2.8.1->pandas->shap) (1.16.0)\n"
          ]
        }
      ]
    },
    {
      "cell_type": "code",
      "execution_count": 2,
      "metadata": {
        "id": "LRHKqA8lxgLO"
      },
      "outputs": [],
      "source": [
        "# Standard notebook libraries\n",
        "import warnings\n",
        "warnings.filterwarnings('ignore')\n",
        "from IPython.display import clear_output\n",
        "import pandas as pd\n",
        "import numpy as np\n",
        "import os\n",
        "\n",
        "# Visualizations libraries\n",
        "import matplotlib.pyplot as plt\n",
        "import seaborn as sns; sns.set(style='white')\n",
        "\n",
        "# Libraries to support model building\n",
        "from scipy.stats import pearsonr\n",
        "import xgboost as xgb\n",
        "from sklearn.model_selection import cross_val_score\n",
        "\n",
        "# Library to support model analysis\n",
        "import shap\n",
        "\n",
        "# Google Drive functionality\n",
        "from google.colab import drive\n",
        "drive.mount('/content/drive')\n",
        "\n",
        "clear_output()"
      ]
    },
    {
      "cell_type": "markdown",
      "source": [
        "## Google Drive OR Local"
      ],
      "metadata": {
        "id": "4eoxEnqty_eh"
      }
    },
    {
      "cell_type": "code",
      "source": [
        "drive = True\n",
        "local = not drive"
      ],
      "metadata": {
        "id": "vsYvkaQSy_23"
      },
      "execution_count": 3,
      "outputs": []
    },
    {
      "cell_type": "markdown",
      "metadata": {
        "id": "Nl6NztifxgLP"
      },
      "source": [
        "### Data Read"
      ]
    },
    {
      "cell_type": "code",
      "execution_count": 4,
      "metadata": {
        "id": "rxYX3qg5xgLP"
      },
      "outputs": [],
      "source": [
        "# Path Definition\n",
        "if drive:\n",
        "  path = 'drive/MyDrive/Projects/wave/'\n",
        "else:\n",
        "  os.chdir('/Users/adisrikanth/Documents/Projects/DataProjects/waimea-wave-data')\n",
        "  path = ''\n",
        "\n",
        "# Data reads\n",
        "data_wide = pd.read_csv(path + 'data/wide.csv')\n",
        "data_b = pd.read_csv(path + 'data/buoy-data.csv')"
      ]
    },
    {
      "cell_type": "markdown",
      "metadata": {
        "id": "g7qYXELixgLP"
      },
      "source": [
        "# **Exploratory Data Analysis**"
      ]
    },
    {
      "cell_type": "markdown",
      "metadata": {
        "id": "7eYylzduxgLQ"
      },
      "source": [
        "## Buoy Data CSV"
      ]
    },
    {
      "cell_type": "code",
      "execution_count": 5,
      "metadata": {
        "colab": {
          "base_uri": "https://localhost:8080/"
        },
        "id": "sWcl1aKKxgLQ",
        "outputId": "3e4848d4-668d-4a50-f978-4ed450b46d69"
      },
      "outputs": [
        {
          "output_type": "stream",
          "name": "stdout",
          "text": [
            "<class 'pandas.core.frame.DataFrame'>\n",
            "RangeIndex: 14610 entries, 0 to 14609\n",
            "Data columns (total 7 columns):\n",
            " #   Column                Non-Null Count  Dtype  \n",
            "---  ------                --------------  -----  \n",
            " 0   station_id            14610 non-null  object \n",
            " 1   station_name          14610 non-null  object \n",
            " 2   date                  14610 non-null  object \n",
            " 3   air_temp              5686 non-null   float64\n",
            " 4   average_wave_period   8128 non-null   float64\n",
            " 5   dominant_wave_period  8506 non-null   float64\n",
            " 6   wave_height           12359 non-null  float64\n",
            "dtypes: float64(4), object(3)\n",
            "memory usage: 799.1+ KB\n"
          ]
        }
      ],
      "source": [
        "data_b.info()"
      ]
    },
    {
      "cell_type": "markdown",
      "metadata": {
        "id": "e2u_O89kxgLR"
      },
      "source": [
        "### Map ID to Location"
      ]
    },
    {
      "cell_type": "code",
      "execution_count": 6,
      "metadata": {
        "colab": {
          "base_uri": "https://localhost:8080/"
        },
        "id": "jI70h4C9xgLR",
        "outputId": "ec5f5e01-e0fb-478d-d9bf-d78c5f408ff9"
      },
      "outputs": [
        {
          "output_type": "execute_result",
          "data": {
            "text/plain": [
              "{'21418t': 'North Tokyo',\n",
              " '46402t': 'Dutch Harbor Alaska',\n",
              " '51000h': 'Northern Hawaii One',\n",
              " '51101h': 'Northwestern Hawaii Two',\n",
              " '51201h': 'Waimea Bay'}"
            ]
          },
          "metadata": {},
          "execution_count": 6
        }
      ],
      "source": [
        "id_to_name_df = data_b[['station_id', 'station_name']].drop_duplicates()\n",
        "id_to_name = dict(zip(id_to_name_df.station_id, id_to_name_df.station_name))\n",
        "id_to_name"
      ]
    },
    {
      "cell_type": "markdown",
      "metadata": {
        "id": "yS0XJiXlxgLR"
      },
      "source": [
        "## Wide CSV"
      ]
    },
    {
      "cell_type": "code",
      "execution_count": 7,
      "metadata": {
        "colab": {
          "base_uri": "https://localhost:8080/"
        },
        "id": "w4Nt7qYDxgLS",
        "outputId": "c638257a-a8af-4361-9485-1f9b6be5cab2"
      },
      "outputs": [
        {
          "output_type": "stream",
          "name": "stdout",
          "text": [
            "<class 'pandas.core.frame.DataFrame'>\n",
            "RangeIndex: 2922 entries, 0 to 2921\n",
            "Data columns (total 14 columns):\n",
            " #   Column                       Non-Null Count  Dtype  \n",
            "---  ------                       --------------  -----  \n",
            " 0   date                         2922 non-null   object \n",
            " 1   air_temp_51000h              2860 non-null   float64\n",
            " 2   air_temp_51101h              2826 non-null   float64\n",
            " 3   average_wave_period_51000h   2451 non-null   float64\n",
            " 4   average_wave_period_51101h   2826 non-null   float64\n",
            " 5   average_wave_period_51201h   2851 non-null   float64\n",
            " 6   dominant_wave_period_51000h  2829 non-null   float64\n",
            " 7   dominant_wave_period_51101h  2826 non-null   float64\n",
            " 8   dominant_wave_period_51201h  2851 non-null   float64\n",
            " 9   wave_height_21418t           1223 non-null   float64\n",
            " 10  wave_height_46402t           2630 non-null   float64\n",
            " 11  wave_height_51000h           2829 non-null   float64\n",
            " 12  wave_height_51101h           2826 non-null   float64\n",
            " 13  wave_height_51201h           2851 non-null   float64\n",
            "dtypes: float64(13), object(1)\n",
            "memory usage: 319.7+ KB\n"
          ]
        }
      ],
      "source": [
        "data_wide.info()"
      ]
    },
    {
      "cell_type": "markdown",
      "metadata": {
        "id": "BGLxFmtVxgLS"
      },
      "source": [
        "### Pre Processing"
      ]
    },
    {
      "cell_type": "code",
      "execution_count": 8,
      "metadata": {
        "id": "AaMpejOZxgLS"
      },
      "outputs": [],
      "source": [
        "# Rename Columns\n",
        "data_wide = data_wide.rename(columns = {'wave_height_51201h': 'wave_height_bay',\n",
        "                                        'dominant_wave_period_51201h': 'dominant_wave_period_bay',\n",
        "                                        'average_wave_period_51201h': 'average_wave_period_bay',\n",
        "                                        'air_temp_51000h' : 'air_temp_north',\n",
        "                                        'average_wave_period_51000h': 'average_wave_period_north',\n",
        "                                        'dominant_wave_period_51000h': 'dominant_wave_period_north',\n",
        "                                        'wave_height_51000h': 'wave_height_north',\n",
        "                                        'air_temp_51101h': 'air_temp_nw',\n",
        "                                        'average_wave_period_51101h': 'average_wave_period_nw',\n",
        "                                        'dominant_wave_period_51101h': 'dominant_wave_period_nw',\n",
        "                                        'wave_height_51101h': 'wave_height_nw',\n",
        "                                        'wave_height_21418t' : 'wave_height_tokyo',\n",
        "                                        'wave_height_46402t' : 'wave_height_alaska'})"
      ]
    },
    {
      "cell_type": "code",
      "execution_count": 9,
      "metadata": {
        "id": "z4-BszJXxgLS"
      },
      "outputs": [],
      "source": [
        "# Extract Year and Month from Date\n",
        "# Note: both of these features should be treated as categorical variables (additional note on this later)\n",
        "\n",
        "data_wide['year'] = pd.DatetimeIndex(data_wide['date']).year\n",
        "data_wide['month'] = pd.DatetimeIndex(data_wide['date']).month"
      ]
    },
    {
      "cell_type": "markdown",
      "metadata": {
        "id": "5lmexVXmxgLS"
      },
      "source": [
        "### Target Variable Analysis"
      ]
    },
    {
      "cell_type": "code",
      "execution_count": 10,
      "metadata": {
        "id": "ZRYNTpbSxgLS"
      },
      "outputs": [],
      "source": [
        "# Plot distribution of target variable\n",
        "\n",
        "def plot_feature(df, feature_name):\n",
        "    df[feature_name].hist(bins = 50)\n",
        "    plt.title('Distribution of ' + feature_name)\n",
        "    plt.show()"
      ]
    },
    {
      "cell_type": "code",
      "execution_count": 11,
      "metadata": {
        "colab": {
          "base_uri": "https://localhost:8080/",
          "height": 457
        },
        "id": "IHpftnioxgLS",
        "outputId": "14a59d09-c70b-4ec3-be38-934277c5b3f4"
      },
      "outputs": [
        {
          "output_type": "display_data",
          "data": {
            "text/plain": [
              "<Figure size 640x480 with 1 Axes>"
            ],
            "image/png": "[encoded data removed]"
          },
          "metadata": {}
        }
      ],
      "source": [
        "plot_feature(data_wide, 'wave_height_bay')"
      ]
    },
    {
      "cell_type": "markdown",
      "metadata": {
        "id": "u5SEFe3exgLS"
      },
      "source": [
        "### Missing Data"
      ]
    },
    {
      "cell_type": "markdown",
      "metadata": {
        "id": "m3r-vTsRxgLS"
      },
      "source": [
        "We notice that generally speaking, when a beacon is down, it does not send any data points. As in, it is not standard for a beacon to send one metric but not send another. As such, we consider missing data grouped by beacon."
      ]
    },
    {
      "cell_type": "code",
      "execution_count": 12,
      "metadata": {
        "id": "qfapsYYLxgLS"
      },
      "outputs": [],
      "source": [
        "# Null Columns vs Non Null Columns by Feature\n",
        "\n",
        "null_analysis_dict = {}\n",
        "for col in data_wide.columns:\n",
        "    nulls = data_wide[data_wide[col].isnull()]\n",
        "    non_nulls = data_wide[data_wide[col].notnull()]\n",
        "\n",
        "    analysis_df = nulls.describe().join(non_nulls.describe(), lsuffix = '_null', rsuffix = '_non_null').T.reset_index()\n",
        "    null_analysis_dict[col] = analysis_df"
      ]
    },
    {
      "cell_type": "markdown",
      "metadata": {
        "id": "jeoLTwiCxgLS"
      },
      "source": [
        "For each feature, we separate data into two groups: data that exists when the feature is null and data that exists when the feature is non null. Then, for each feature, we compare the distributions of the two datasets. We pay closest attention to the wave height in Waimea Bay as it is our target variable and we also pay special attention to the median values instead of the mean (because we have not yet pulled out outliers).\n",
        "\n",
        "We find the following trends for our features:\n",
        "\n",
        "- north hawaii beacon:  significant difference\n",
        "- nw hawaii beacon:  significant difference\n",
        "- tokyo beacon:  insignificant difference\n",
        "- alaska beacon:  insignificant difference\n",
        "\n",
        "Essentially, the status of the hawaii beacons _may_ be indicative of environmental conditions or other factors that carry correlation with our target variable (wave height at the bay). So, in these cases, we code these variables are categorical in order to allow for a separate category for missing data.\n",
        "\n",
        "In the cases of the tokyo and alaska beacon, there seems to be very little difference in other features when these beacons are on/off. As such, we do not believe that the missing data points are indicative of any trend. In this case, we choose the simpler route of imputing the datapoints using the median of the columns. We do not consider dropping rows as data points given the limited size of our dataset. However, with more data, this calculus could be different."
      ]
    },
    {
      "cell_type": "code",
      "execution_count": 13,
      "metadata": {
        "colab": {
          "base_uri": "https://localhost:8080/",
          "height": 990
        },
        "id": "zyKBe5FFxgLT",
        "outputId": "02c39bea-c8ab-46a6-a230-e0edf2fcee40"
      },
      "outputs": [
        {
          "output_type": "execute_result",
          "data": {
            "text/plain": [
              "                                  index   count         mean        std  \\\n",
              "15              air_temp_north_non_null  2568.0    22.786559   2.460016   \n",
              "0                   air_temp_north_null   292.0    22.365751   1.092447   \n",
              "16                 air_temp_nw_non_null  2534.0    23.947010   1.843202   \n",
              "1                      air_temp_nw_null   292.0    22.818402   1.714286   \n",
              "19     average_wave_period_bay_non_null  2582.0     7.150753   1.924966   \n",
              "4          average_wave_period_bay_null   269.0     6.638768   1.707350   \n",
              "17   average_wave_period_north_non_null  2209.0     9.207095   5.059251   \n",
              "2        average_wave_period_north_null   242.0    10.129305   6.156970   \n",
              "18      average_wave_period_nw_non_null  2534.0     7.017658   1.272557   \n",
              "3           average_wave_period_nw_null   292.0     6.959239   1.299675   \n",
              "22    dominant_wave_period_bay_non_null  2582.0    10.749346   2.695289   \n",
              "7         dominant_wave_period_bay_null   269.0    10.460317   2.574921   \n",
              "20  dominant_wave_period_north_non_null  2542.0    18.304505  15.995621   \n",
              "5       dominant_wave_period_north_null   287.0    18.423976  13.289180   \n",
              "21     dominant_wave_period_nw_non_null  2534.0    10.656123   2.358345   \n",
              "6          dominant_wave_period_nw_null   292.0    10.543108   2.269062   \n",
              "29                       month_non_null  2630.0     6.784030   3.497504   \n",
              "14                           month_null   292.0     4.171233   1.657471   \n",
              "24          wave_height_alaska_non_null  2630.0     8.158266   6.054001   \n",
              "9               wave_height_alaska_null     0.0          NaN        NaN   \n",
              "27             wave_height_bay_non_null  2582.0     1.702160   0.714228   \n",
              "12                 wave_height_bay_null   269.0     1.669514   0.671177   \n",
              "25           wave_height_north_non_null  2542.0    10.522957  17.432025   \n",
              "10               wave_height_north_null   287.0    11.094778  14.326586   \n",
              "26              wave_height_nw_non_null  2534.0     2.293654   0.803769   \n",
              "11                  wave_height_nw_null   292.0     2.358297   0.765341   \n",
              "23           wave_height_tokyo_non_null  1036.0    47.068669  12.583016   \n",
              "8                wave_height_tokyo_null   187.0    39.917394   0.063951   \n",
              "28                        year_non_null  2630.0  2013.779848   2.219209   \n",
              "13                            year_null   292.0  2010.982877   1.072804   \n",
              "\n",
              "            min          25%          50%          75%          max  \n",
              "15    11.416667    21.940774    23.306250    24.358967    28.156522  \n",
              "0     18.900000    21.683333    22.589583    23.113542    26.756522  \n",
              "16    17.569565    22.700000    24.231250    25.355208    27.870833  \n",
              "1     17.841667    21.603125    23.243750    24.347917    25.169565  \n",
              "19     3.926957     5.590312     6.817148     8.415729    14.220000  \n",
              "4      4.554681     5.474468     6.067234     7.138085    13.555581  \n",
              "17     4.950000     6.281250     7.191250     9.625000    29.883913  \n",
              "2      5.152083     6.162708     7.361250    10.581875    29.980417  \n",
              "18     4.633333     6.048125     6.728958     7.710938    13.058750  \n",
              "3      5.275833     6.132500     6.552330     7.335104    12.850833  \n",
              "22     4.563261     8.447701    10.770652    12.774959    19.871190  \n",
              "7      6.085000     8.330000     9.960227    12.321667    18.899792  \n",
              "20     6.225000     9.513854    12.296250    17.667083    95.253750  \n",
              "5      6.312083     9.117708    12.574167    22.386042    80.115417  \n",
              "21     5.677083     8.756979    10.348958    12.363333    19.135000  \n",
              "6      6.773333     8.822470     9.916875    12.121771    17.546250  \n",
              "29     1.000000     4.000000     7.000000    10.000000    12.000000  \n",
              "14     1.000000     3.000000     5.000000     6.000000     6.000000  \n",
              "24     0.920867     1.468391     5.003917    14.198052    16.554842  \n",
              "9           NaN          NaN          NaN          NaN          NaN  \n",
              "27     0.530652     1.185655     1.527228     2.055653     5.355500  \n",
              "12     0.718125     1.250870     1.477872     1.917907     4.370000  \n",
              "25     0.832500     1.923750     2.706250     9.642917    94.947500  \n",
              "10     1.071250     1.979185     2.843750    15.046667    78.860000  \n",
              "26     0.949583     1.714167     2.114257     2.706771     7.433333  \n",
              "11     1.059167     1.843021     2.215562     2.659271     5.963750  \n",
              "23    31.270823    39.816609    39.936349    53.730042    71.072012  \n",
              "8     39.785760    39.875792    39.908094    39.963474    40.169646  \n",
              "28  2010.000000  2012.000000  2014.000000  2016.000000  2017.000000  \n",
              "13  2010.000000  2010.000000  2011.000000  2012.000000  2013.000000  "
            ],
            "text/html": [
              "\n",
              "  <div id=\"df-ccbc4b75-df95-473f-acbb-8a7033eb1db0\">\n",
              "    <div class=\"colab-df-container\">\n",
              "      <div>\n",
              "<style scoped>\n",
              "    .dataframe tbody tr th:only-of-type {\n",
              "        vertical-align: middle;\n",
              "    }\n",
              "\n",
              "    .dataframe tbody tr th {\n",
              "        vertical-align: top;\n",
              "    }\n",
              "\n",
              "    .dataframe thead th {\n",
              "        text-align: right;\n",
              "    }\n",
              "</style>\n",
              "<table border=\"1\" class=\"dataframe\">\n",
              "  <thead>\n",
              "    <tr style=\"text-align: right;\">\n",
              "      <th></th>\n",
              "      <th>index</th>\n",
              "      <th>count</th>\n",
              "      <th>mean</th>\n",
              "      <th>std</th>\n",
              "      <th>min</th>\n",
              "      <th>25%</th>\n",
              "      <th>50%</th>\n",
              "      <th>75%</th>\n",
              "      <th>max</th>\n",
              "    </tr>\n",
              "  </thead>\n",
              "  <tbody>\n",
              "    <tr>\n",
              "      <th>15</th>\n",
              "      <td>air_temp_north_non_null</td>\n",
              "      <td>2568.0</td>\n",
              "      <td>22.786559</td>\n",
              "      <td>2.460016</td>\n",
              "      <td>11.416667</td>\n",
              "      <td>21.940774</td>\n",
              "      <td>23.306250</td>\n",
              "      <td>24.358967</td>\n",
              "      <td>28.156522</td>\n",
              "    </tr>\n",
              "    <tr>\n",
              "      <th>0</th>\n",
              "      <td>air_temp_north_null</td>\n",
              "      <td>292.0</td>\n",
              "      <td>22.365751</td>\n",
              "      <td>1.092447</td>\n",
              "      <td>18.900000</td>\n",
              "      <td>21.683333</td>\n",
              "      <td>22.589583</td>\n",
              "      <td>23.113542</td>\n",
              "      <td>26.756522</td>\n",
              "    </tr>\n",
              "    <tr>\n",
              "      <th>16</th>\n",
              "      <td>air_temp_nw_non_null</td>\n",
              "      <td>2534.0</td>\n",
              "      <td>23.947010</td>\n",
              "      <td>1.843202</td>\n",
              "      <td>17.569565</td>\n",
              "      <td>22.700000</td>\n",
              "      <td>24.231250</td>\n",
              "      <td>25.355208</td>\n",
              "      <td>27.870833</td>\n",
              "    </tr>\n",
              "    <tr>\n",
              "      <th>1</th>\n",
              "      <td>air_temp_nw_null</td>\n",
              "      <td>292.0</td>\n",
              "      <td>22.818402</td>\n",
              "      <td>1.714286</td>\n",
              "      <td>17.841667</td>\n",
              "      <td>21.603125</td>\n",
              "      <td>23.243750</td>\n",
              "      <td>24.347917</td>\n",
              "      <td>25.169565</td>\n",
              "    </tr>\n",
              "    <tr>\n",
              "      <th>19</th>\n",
              "      <td>average_wave_period_bay_non_null</td>\n",
              "      <td>2582.0</td>\n",
              "      <td>7.150753</td>\n",
              "      <td>1.924966</td>\n",
              "      <td>3.926957</td>\n",
              "      <td>5.590312</td>\n",
              "      <td>6.817148</td>\n",
              "      <td>8.415729</td>\n",
              "      <td>14.220000</td>\n",
              "    </tr>\n",
              "    <tr>\n",
              "      <th>4</th>\n",
              "      <td>average_wave_period_bay_null</td>\n",
              "      <td>269.0</td>\n",
              "      <td>6.638768</td>\n",
              "      <td>1.707350</td>\n",
              "      <td>4.554681</td>\n",
              "      <td>5.474468</td>\n",
              "      <td>6.067234</td>\n",
              "      <td>7.138085</td>\n",
              "      <td>13.555581</td>\n",
              "    </tr>\n",
              "    <tr>\n",
              "      <th>17</th>\n",
              "      <td>average_wave_period_north_non_null</td>\n",
              "      <td>2209.0</td>\n",
              "      <td>9.207095</td>\n",
              "      <td>5.059251</td>\n",
              "      <td>4.950000</td>\n",
              "      <td>6.281250</td>\n",
              "      <td>7.191250</td>\n",
              "      <td>9.625000</td>\n",
              "      <td>29.883913</td>\n",
              "    </tr>\n",
              "    <tr>\n",
              "      <th>2</th>\n",
              "      <td>average_wave_period_north_null</td>\n",
              "      <td>242.0</td>\n",
              "      <td>10.129305</td>\n",
              "      <td>6.156970</td>\n",
              "      <td>5.152083</td>\n",
              "      <td>6.162708</td>\n",
              "      <td>7.361250</td>\n",
              "      <td>10.581875</td>\n",
              "      <td>29.980417</td>\n",
              "    </tr>\n",
              "    <tr>\n",
              "      <th>18</th>\n",
              "      <td>average_wave_period_nw_non_null</td>\n",
              "      <td>2534.0</td>\n",
              "      <td>7.017658</td>\n",
              "      <td>1.272557</td>\n",
              "      <td>4.633333</td>\n",
              "      <td>6.048125</td>\n",
              "      <td>6.728958</td>\n",
              "      <td>7.710938</td>\n",
              "      <td>13.058750</td>\n",
              "    </tr>\n",
              "    <tr>\n",
              "      <th>3</th>\n",
              "      <td>average_wave_period_nw_null</td>\n",
              "      <td>292.0</td>\n",
              "      <td>6.959239</td>\n",
              "      <td>1.299675</td>\n",
              "      <td>5.275833</td>\n",
              "      <td>6.132500</td>\n",
              "      <td>6.552330</td>\n",
              "      <td>7.335104</td>\n",
              "      <td>12.850833</td>\n",
              "    </tr>\n",
              "    <tr>\n",
              "      <th>22</th>\n",
              "      <td>dominant_wave_period_bay_non_null</td>\n",
              "      <td>2582.0</td>\n",
              "      <td>10.749346</td>\n",
              "      <td>2.695289</td>\n",
              "      <td>4.563261</td>\n",
              "      <td>8.447701</td>\n",
              "      <td>10.770652</td>\n",
              "      <td>12.774959</td>\n",
              "      <td>19.871190</td>\n",
              "    </tr>\n",
              "    <tr>\n",
              "      <th>7</th>\n",
              "      <td>dominant_wave_period_bay_null</td>\n",
              "      <td>269.0</td>\n",
              "      <td>10.460317</td>\n",
              "      <td>2.574921</td>\n",
              "      <td>6.085000</td>\n",
              "      <td>8.330000</td>\n",
              "      <td>9.960227</td>\n",
              "      <td>12.321667</td>\n",
              "      <td>18.899792</td>\n",
              "    </tr>\n",
              "    <tr>\n",
              "      <th>20</th>\n",
              "      <td>dominant_wave_period_north_non_null</td>\n",
              "      <td>2542.0</td>\n",
              "      <td>18.304505</td>\n",
              "      <td>15.995621</td>\n",
              "      <td>6.225000</td>\n",
              "      <td>9.513854</td>\n",
              "      <td>12.296250</td>\n",
              "      <td>17.667083</td>\n",
              "      <td>95.253750</td>\n",
              "    </tr>\n",
              "    <tr>\n",
              "      <th>5</th>\n",
              "      <td>dominant_wave_period_north_null</td>\n",
              "      <td>287.0</td>\n",
              "      <td>18.423976</td>\n",
              "      <td>13.289180</td>\n",
              "      <td>6.312083</td>\n",
              "      <td>9.117708</td>\n",
              "      <td>12.574167</td>\n",
              "      <td>22.386042</td>\n",
              "      <td>80.115417</td>\n",
              "    </tr>\n",
              "    <tr>\n",
              "      <th>21</th>\n",
              "      <td>dominant_wave_period_nw_non_null</td>\n",
              "      <td>2534.0</td>\n",
              "      <td>10.656123</td>\n",
              "      <td>2.358345</td>\n",
              "      <td>5.677083</td>\n",
              "      <td>8.756979</td>\n",
              "      <td>10.348958</td>\n",
              "      <td>12.363333</td>\n",
              "      <td>19.135000</td>\n",
              "    </tr>\n",
              "    <tr>\n",
              "      <th>6</th>\n",
              "      <td>dominant_wave_period_nw_null</td>\n",
              "      <td>292.0</td>\n",
              "      <td>10.543108</td>\n",
              "      <td>2.269062</td>\n",
              "      <td>6.773333</td>\n",
              "      <td>8.822470</td>\n",
              "      <td>9.916875</td>\n",
              "      <td>12.121771</td>\n",
              "      <td>17.546250</td>\n",
              "    </tr>\n",
              "    <tr>\n",
              "      <th>29</th>\n",
              "      <td>month_non_null</td>\n",
              "      <td>2630.0</td>\n",
              "      <td>6.784030</td>\n",
              "      <td>3.497504</td>\n",
              "      <td>1.000000</td>\n",
              "      <td>4.000000</td>\n",
              "      <td>7.000000</td>\n",
              "      <td>10.000000</td>\n",
              "      <td>12.000000</td>\n",
              "    </tr>\n",
              "    <tr>\n",
              "      <th>14</th>\n",
              "      <td>month_null</td>\n",
              "      <td>292.0</td>\n",
              "      <td>4.171233</td>\n",
              "      <td>1.657471</td>\n",
              "      <td>1.000000</td>\n",
              "      <td>3.000000</td>\n",
              "      <td>5.000000</td>\n",
              "      <td>6.000000</td>\n",
              "      <td>6.000000</td>\n",
              "    </tr>\n",
              "    <tr>\n",
              "      <th>24</th>\n",
              "      <td>wave_height_alaska_non_null</td>\n",
              "      <td>2630.0</td>\n",
              "      <td>8.158266</td>\n",
              "      <td>6.054001</td>\n",
              "      <td>0.920867</td>\n",
              "      <td>1.468391</td>\n",
              "      <td>5.003917</td>\n",
              "      <td>14.198052</td>\n",
              "      <td>16.554842</td>\n",
              "    </tr>\n",
              "    <tr>\n",
              "      <th>9</th>\n",
              "      <td>wave_height_alaska_null</td>\n",
              "      <td>0.0</td>\n",
              "      <td>NaN</td>\n",
              "      <td>NaN</td>\n",
              "      <td>NaN</td>\n",
              "      <td>NaN</td>\n",
              "      <td>NaN</td>\n",
              "      <td>NaN</td>\n",
              "      <td>NaN</td>\n",
              "    </tr>\n",
              "    <tr>\n",
              "      <th>27</th>\n",
              "      <td>wave_height_bay_non_null</td>\n",
              "      <td>2582.0</td>\n",
              "      <td>1.702160</td>\n",
              "      <td>0.714228</td>\n",
              "      <td>0.530652</td>\n",
              "      <td>1.185655</td>\n",
              "      <td>1.527228</td>\n",
              "      <td>2.055653</td>\n",
              "      <td>5.355500</td>\n",
              "    </tr>\n",
              "    <tr>\n",
              "      <th>12</th>\n",
              "      <td>wave_height_bay_null</td>\n",
              "      <td>269.0</td>\n",
              "      <td>1.669514</td>\n",
              "      <td>0.671177</td>\n",
              "      <td>0.718125</td>\n",
              "      <td>1.250870</td>\n",
              "      <td>1.477872</td>\n",
              "      <td>1.917907</td>\n",
              "      <td>4.370000</td>\n",
              "    </tr>\n",
              "    <tr>\n",
              "      <th>25</th>\n",
              "      <td>wave_height_north_non_null</td>\n",
              "      <td>2542.0</td>\n",
              "      <td>10.522957</td>\n",
              "      <td>17.432025</td>\n",
              "      <td>0.832500</td>\n",
              "      <td>1.923750</td>\n",
              "      <td>2.706250</td>\n",
              "      <td>9.642917</td>\n",
              "      <td>94.947500</td>\n",
              "    </tr>\n",
              "    <tr>\n",
              "      <th>10</th>\n",
              "      <td>wave_height_north_null</td>\n",
              "      <td>287.0</td>\n",
              "      <td>11.094778</td>\n",
              "      <td>14.326586</td>\n",
              "      <td>1.071250</td>\n",
              "      <td>1.979185</td>\n",
              "      <td>2.843750</td>\n",
              "      <td>15.046667</td>\n",
              "      <td>78.860000</td>\n",
              "    </tr>\n",
              "    <tr>\n",
              "      <th>26</th>\n",
              "      <td>wave_height_nw_non_null</td>\n",
              "      <td>2534.0</td>\n",
              "      <td>2.293654</td>\n",
              "      <td>0.803769</td>\n",
              "      <td>0.949583</td>\n",
              "      <td>1.714167</td>\n",
              "      <td>2.114257</td>\n",
              "      <td>2.706771</td>\n",
              "      <td>7.433333</td>\n",
              "    </tr>\n",
              "    <tr>\n",
              "      <th>11</th>\n",
              "      <td>wave_height_nw_null</td>\n",
              "      <td>292.0</td>\n",
              "      <td>2.358297</td>\n",
              "      <td>0.765341</td>\n",
              "      <td>1.059167</td>\n",
              "      <td>1.843021</td>\n",
              "      <td>2.215562</td>\n",
              "      <td>2.659271</td>\n",
              "      <td>5.963750</td>\n",
              "    </tr>\n",
              "    <tr>\n",
              "      <th>23</th>\n",
              "      <td>wave_height_tokyo_non_null</td>\n",
              "      <td>1036.0</td>\n",
              "      <td>47.068669</td>\n",
              "      <td>12.583016</td>\n",
              "      <td>31.270823</td>\n",
              "      <td>39.816609</td>\n",
              "      <td>39.936349</td>\n",
              "      <td>53.730042</td>\n",
              "      <td>71.072012</td>\n",
              "    </tr>\n",
              "    <tr>\n",
              "      <th>8</th>\n",
              "      <td>wave_height_tokyo_null</td>\n",
              "      <td>187.0</td>\n",
              "      <td>39.917394</td>\n",
              "      <td>0.063951</td>\n",
              "      <td>39.785760</td>\n",
              "      <td>39.875792</td>\n",
              "      <td>39.908094</td>\n",
              "      <td>39.963474</td>\n",
              "      <td>40.169646</td>\n",
              "    </tr>\n",
              "    <tr>\n",
              "      <th>28</th>\n",
              "      <td>year_non_null</td>\n",
              "      <td>2630.0</td>\n",
              "      <td>2013.779848</td>\n",
              "      <td>2.219209</td>\n",
              "      <td>2010.000000</td>\n",
              "      <td>2012.000000</td>\n",
              "      <td>2014.000000</td>\n",
              "      <td>2016.000000</td>\n",
              "      <td>2017.000000</td>\n",
              "    </tr>\n",
              "    <tr>\n",
              "      <th>13</th>\n",
              "      <td>year_null</td>\n",
              "      <td>292.0</td>\n",
              "      <td>2010.982877</td>\n",
              "      <td>1.072804</td>\n",
              "      <td>2010.000000</td>\n",
              "      <td>2010.000000</td>\n",
              "      <td>2011.000000</td>\n",
              "      <td>2012.000000</td>\n",
              "      <td>2013.000000</td>\n",
              "    </tr>\n",
              "  </tbody>\n",
              "</table>\n",
              "</div>\n",
              "      <button class=\"colab-df-convert\" onclick=\"convertToInteractive('df-ccbc4b75-df95-473f-acbb-8a7033eb1db0')\"\n",
              "              title=\"Convert this dataframe to an interactive table.\"\n",
              "              style=\"display:none;\">\n",
              "        \n",
              "  <svg xmlns=\"http://www.w3.org/2000/svg\" height=\"24px\"viewBox=\"0 0 24 24\"\n",
              "       width=\"24px\">\n",
              "    <path d=\"M0 0h24v24H0V0z\" fill=\"none\"/>\n",
              "    <path d=\"M18.56 5.44l.94 2.06.94-2.06 2.06-.94-2.06-.94-.94-2.06-.94 2.06-2.06.94zm-11 1L8.5 8.5l.94-2.06 2.06-.94-2.06-.94L8.5 2.5l-.94 2.06-2.06.94zm10 10l.94 2.06.94-2.06 2.06-.94-2.06-.94-.94-2.06-.94 2.06-2.06.94z\"/><path d=\"M17.41 7.96l-1.37-1.37c-.4-.4-.92-.59-1.43-.59-.52 0-1.04.2-1.43.59L10.3 9.45l-7.72 7.72c-.78.78-.78 2.05 0 2.83L4 21.41c.39.39.9.59 1.41.59.51 0 1.02-.2 1.41-.59l7.78-7.78 2.81-2.81c.8-.78.8-2.07 0-2.86zM5.41 20L4 18.59l7.72-7.72 1.47 1.35L5.41 20z\"/>\n",
              "  </svg>\n",
              "      </button>\n",
              "      \n",
              "  <style>\n",
              "    .colab-df-container {\n",
              "      display:flex;\n",
              "      flex-wrap:wrap;\n",
              "      gap: 12px;\n",
              "    }\n",
              "\n",
              "    .colab-df-convert {\n",
              "      background-color: #E8F0FE;\n",
              "      border: none;\n",
              "      border-radius: 50%;\n",
              "      cursor: pointer;\n",
              "      display: none;\n",
              "      fill: #1967D2;\n",
              "      height: 32px;\n",
              "      padding: 0 0 0 0;\n",
              "      width: 32px;\n",
              "    }\n",
              "\n",
              "    .colab-df-convert:hover {\n",
              "      background-color: #E2EBFA;\n",
              "      box-shadow: 0px 1px 2px rgba(60, 64, 67, 0.3), 0px 1px 3px 1px rgba(60, 64, 67, 0.15);\n",
              "      fill: #174EA6;\n",
              "    }\n",
              "\n",
              "    [theme=dark] .colab-df-convert {\n",
              "      background-color: #3B4455;\n",
              "      fill: #D2E3FC;\n",
              "    }\n",
              "\n",
              "    [theme=dark] .colab-df-convert:hover {\n",
              "      background-color: #434B5C;\n",
              "      box-shadow: 0px 1px 3px 1px rgba(0, 0, 0, 0.15);\n",
              "      filter: drop-shadow(0px 1px 2px rgba(0, 0, 0, 0.3));\n",
              "      fill: #FFFFFF;\n",
              "    }\n",
              "  </style>\n",
              "\n",
              "      <script>\n",
              "        const buttonEl =\n",
              "          document.querySelector('#df-ccbc4b75-df95-473f-acbb-8a7033eb1db0 button.colab-df-convert');\n",
              "        buttonEl.style.display =\n",
              "          google.colab.kernel.accessAllowed ? 'block' : 'none';\n",
              "\n",
              "        async function convertToInteractive(key) {\n",
              "          const element = document.querySelector('#df-ccbc4b75-df95-473f-acbb-8a7033eb1db0');\n",
              "          const dataTable =\n",
              "            await google.colab.kernel.invokeFunction('convertToInteractive',\n",
              "                                                     [key], {});\n",
              "          if (!dataTable) return;\n",
              "\n",
              "          const docLinkHtml = 'Like what you see? Visit the ' +\n",
              "            '<a target=\"_blank\" href=https://colab.research.google.com/notebooks/data_table.ipynb>data table notebook</a>'\n",
              "            + ' to learn more about interactive tables.';\n",
              "          element.innerHTML = '';\n",
              "          dataTable['output_type'] = 'display_data';\n",
              "          await google.colab.output.renderOutput(dataTable, element);\n",
              "          const docLink = document.createElement('div');\n",
              "          docLink.innerHTML = docLinkHtml;\n",
              "          element.appendChild(docLink);\n",
              "        }\n",
              "      </script>\n",
              "    </div>\n",
              "  </div>\n",
              "  "
            ]
          },
          "metadata": {},
          "execution_count": 13
        }
      ],
      "source": [
        "# Sample Output\n",
        "null_analysis_dict['wave_height_alaska'].sort_values(by = 'index')"
      ]
    },
    {
      "cell_type": "markdown",
      "metadata": {
        "id": "tx1o3GSUxgLT"
      },
      "source": [
        "### Correlation Analysis"
      ]
    },
    {
      "cell_type": "code",
      "execution_count": 14,
      "metadata": {
        "colab": {
          "base_uri": "https://localhost:8080/",
          "height": 584
        },
        "id": "sJ-01-p5xgLT",
        "outputId": "8140bd6c-55bd-4363-c019-1ca0b60267a6"
      },
      "outputs": [
        {
          "output_type": "execute_result",
          "data": {
            "text/plain": [
              "                            air_temp_north  air_temp_nw  \\\n",
              "air_temp_north                    1.000000     0.667591   \n",
              "air_temp_nw                       0.667591     1.000000   \n",
              "average_wave_period_north        -0.308917    -0.212003   \n",
              "average_wave_period_nw           -0.197686    -0.423096   \n",
              "average_wave_period_bay          -0.225944    -0.467939   \n",
              "dominant_wave_period_north       -0.337122    -0.195827   \n",
              "dominant_wave_period_nw          -0.212301    -0.380906   \n",
              "dominant_wave_period_bay         -0.258550    -0.458614   \n",
              "wave_height_tokyo                -0.146068    -0.051005   \n",
              "wave_height_alaska                0.305434     0.030426   \n",
              "wave_height_north                -0.321588    -0.167423   \n",
              "wave_height_nw                   -0.237822    -0.502542   \n",
              "wave_height_bay                  -0.324906    -0.564448   \n",
              "year                              0.064282     0.061437   \n",
              "month                             0.419063     0.566125   \n",
              "\n",
              "                            average_wave_period_north  average_wave_period_nw  \\\n",
              "air_temp_north                              -0.308917               -0.197686   \n",
              "air_temp_nw                                 -0.212003               -0.423096   \n",
              "average_wave_period_north                    1.000000                0.126913   \n",
              "average_wave_period_nw                       0.126913                1.000000   \n",
              "average_wave_period_bay                      0.122192                0.850864   \n",
              "dominant_wave_period_north                   0.955655                0.032589   \n",
              "dominant_wave_period_nw                      0.133831                0.809565   \n",
              "dominant_wave_period_bay                     0.115729                0.784657   \n",
              "wave_height_tokyo                            0.131299                0.237806   \n",
              "wave_height_alaska                          -0.043722                0.072454   \n",
              "wave_height_north                            0.983080               -0.043401   \n",
              "wave_height_nw                               0.107699                0.662646   \n",
              "wave_height_bay                              0.116017                0.634278   \n",
              "year                                        -0.191376                0.061624   \n",
              "month                                       -0.100037               -0.192458   \n",
              "\n",
              "                            average_wave_period_bay  \\\n",
              "air_temp_north                            -0.225944   \n",
              "air_temp_nw                               -0.467939   \n",
              "average_wave_period_north                  0.122192   \n",
              "average_wave_period_nw                     0.850864   \n",
              "average_wave_period_bay                    1.000000   \n",
              "dominant_wave_period_north                 0.042933   \n",
              "dominant_wave_period_nw                    0.732470   \n",
              "dominant_wave_period_bay                   0.848551   \n",
              "wave_height_tokyo                          0.250329   \n",
              "wave_height_alaska                         0.081844   \n",
              "wave_height_north                         -0.036937   \n",
              "wave_height_nw                             0.650881   \n",
              "wave_height_bay                            0.724458   \n",
              "year                                       0.075819   \n",
              "month                                     -0.189152   \n",
              "\n",
              "                            dominant_wave_period_north  \\\n",
              "air_temp_north                               -0.337122   \n",
              "air_temp_nw                                  -0.195827   \n",
              "average_wave_period_north                     0.955655   \n",
              "average_wave_period_nw                        0.032589   \n",
              "average_wave_period_bay                       0.042933   \n",
              "dominant_wave_period_north                    1.000000   \n",
              "dominant_wave_period_nw                       0.087942   \n",
              "dominant_wave_period_bay                      0.054341   \n",
              "wave_height_tokyo                             0.109430   \n",
              "wave_height_alaska                            0.030161   \n",
              "wave_height_north                             0.991703   \n",
              "wave_height_nw                                0.114199   \n",
              "wave_height_bay                               0.124579   \n",
              "year                                         -0.078048   \n",
              "month                                        -0.168450   \n",
              "\n",
              "                            dominant_wave_period_nw  dominant_wave_period_bay  \\\n",
              "air_temp_north                            -0.212301                 -0.258550   \n",
              "air_temp_nw                               -0.380906                 -0.458614   \n",
              "average_wave_period_north                  0.133831                  0.115729   \n",
              "average_wave_period_nw                     0.809565                  0.784657   \n",
              "average_wave_period_bay                    0.732470                  0.848551   \n",
              "dominant_wave_period_north                 0.087942                  0.054341   \n",
              "dominant_wave_period_nw                    1.000000                  0.816445   \n",
              "dominant_wave_period_bay                   0.816445                  1.000000   \n",
              "wave_height_tokyo                          0.200829                  0.241090   \n",
              "wave_height_alaska                         0.074464                  0.036949   \n",
              "wave_height_north                         -0.001189                 -0.032991   \n",
              "wave_height_nw                             0.509419                  0.568164   \n",
              "wave_height_bay                            0.507725                  0.602415   \n",
              "year                                       0.064654                  0.038516   \n",
              "month                                     -0.182130                 -0.175097   \n",
              "\n",
              "                            wave_height_tokyo  wave_height_alaska  \\\n",
              "air_temp_north                      -0.146068            0.305434   \n",
              "air_temp_nw                         -0.051005            0.030426   \n",
              "average_wave_period_north            0.131299           -0.043722   \n",
              "average_wave_period_nw               0.237806            0.072454   \n",
              "average_wave_period_bay              0.250329            0.081844   \n",
              "dominant_wave_period_north           0.109430            0.030161   \n",
              "dominant_wave_period_nw              0.200829            0.074464   \n",
              "dominant_wave_period_bay             0.241090            0.036949   \n",
              "wave_height_tokyo                    1.000000            0.542984   \n",
              "wave_height_alaska                   0.542984            1.000000   \n",
              "wave_height_north                    0.087176            0.026985   \n",
              "wave_height_nw                       0.215168            0.104035   \n",
              "wave_height_bay                      0.229209            0.129950   \n",
              "year                                 0.838909            0.724372   \n",
              "month                                0.244510            0.015391   \n",
              "\n",
              "                            wave_height_north  wave_height_nw  \\\n",
              "air_temp_north                      -0.321588       -0.237822   \n",
              "air_temp_nw                         -0.167423       -0.502542   \n",
              "average_wave_period_north            0.983080        0.107699   \n",
              "average_wave_period_nw              -0.043401        0.662646   \n",
              "average_wave_period_bay             -0.036937        0.650881   \n",
              "dominant_wave_period_north           0.991703        0.114199   \n",
              "dominant_wave_period_nw             -0.001189        0.509419   \n",
              "dominant_wave_period_bay            -0.032991        0.568164   \n",
              "wave_height_tokyo                    0.087176        0.215168   \n",
              "wave_height_alaska                   0.026985        0.104035   \n",
              "wave_height_north                    1.000000        0.080449   \n",
              "wave_height_nw                       0.080449        1.000000   \n",
              "wave_height_bay                      0.084076        0.828044   \n",
              "year                                -0.088765        0.054122   \n",
              "month                               -0.152892       -0.185954   \n",
              "\n",
              "                            wave_height_bay      year     month  \n",
              "air_temp_north                    -0.324906  0.064282  0.419063  \n",
              "air_temp_nw                       -0.564448  0.061437  0.566125  \n",
              "average_wave_period_north          0.116017 -0.191376 -0.100037  \n",
              "average_wave_period_nw             0.634278  0.061624 -0.192458  \n",
              "average_wave_period_bay            0.724458  0.075819 -0.189152  \n",
              "dominant_wave_period_north         0.124579 -0.078048 -0.168450  \n",
              "dominant_wave_period_nw            0.507725  0.064654 -0.182130  \n",
              "dominant_wave_period_bay           0.602415  0.038516 -0.175097  \n",
              "wave_height_tokyo                  0.229209  0.838909  0.244510  \n",
              "wave_height_alaska                 0.129950  0.724372  0.015391  \n",
              "wave_height_north                  0.084076 -0.088765 -0.152892  \n",
              "wave_height_nw                     0.828044  0.054122 -0.185954  \n",
              "wave_height_bay                    1.000000  0.093998 -0.180848  \n",
              "year                               0.093998  1.000000 -0.000196  \n",
              "month                             -0.180848 -0.000196  1.000000  "
            ],
            "text/html": [
              "\n",
              "  <div id=\"df-6031e828-2a50-4175-a29f-2455d4de8c50\">\n",
              "    <div class=\"colab-df-container\">\n",
              "      <div>\n",
              "<style scoped>\n",
              "    .dataframe tbody tr th:only-of-type {\n",
              "        vertical-align: middle;\n",
              "    }\n",
              "\n",
              "    .dataframe tbody tr th {\n",
              "        vertical-align: top;\n",
              "    }\n",
              "\n",
              "    .dataframe thead th {\n",
              "        text-align: right;\n",
              "    }\n",
              "</style>\n",
              "<table border=\"1\" class=\"dataframe\">\n",
              "  <thead>\n",
              "    <tr style=\"text-align: right;\">\n",
              "      <th></th>\n",
              "      <th>air_temp_north</th>\n",
              "      <th>air_temp_nw</th>\n",
              "      <th>average_wave_period_north</th>\n",
              "      <th>average_wave_period_nw</th>\n",
              "      <th>average_wave_period_bay</th>\n",
              "      <th>dominant_wave_period_north</th>\n",
              "      <th>dominant_wave_period_nw</th>\n",
              "      <th>dominant_wave_period_bay</th>\n",
              "      <th>wave_height_tokyo</th>\n",
              "      <th>wave_height_alaska</th>\n",
              "      <th>wave_height_north</th>\n",
              "      <th>wave_height_nw</th>\n",
              "      <th>wave_height_bay</th>\n",
              "      <th>year</th>\n",
              "      <th>month</th>\n",
              "    </tr>\n",
              "  </thead>\n",
              "  <tbody>\n",
              "    <tr>\n",
              "      <th>air_temp_north</th>\n",
              "      <td>1.000000</td>\n",
              "      <td>0.667591</td>\n",
              "      <td>-0.308917</td>\n",
              "      <td>-0.197686</td>\n",
              "      <td>-0.225944</td>\n",
              "      <td>-0.337122</td>\n",
              "      <td>-0.212301</td>\n",
              "      <td>-0.258550</td>\n",
              "      <td>-0.146068</td>\n",
              "      <td>0.305434</td>\n",
              "      <td>-0.321588</td>\n",
              "      <td>-0.237822</td>\n",
              "      <td>-0.324906</td>\n",
              "      <td>0.064282</td>\n",
              "      <td>0.419063</td>\n",
              "    </tr>\n",
              "    <tr>\n",
              "      <th>air_temp_nw</th>\n",
              "      <td>0.667591</td>\n",
              "      <td>1.000000</td>\n",
              "      <td>-0.212003</td>\n",
              "      <td>-0.423096</td>\n",
              "      <td>-0.467939</td>\n",
              "      <td>-0.195827</td>\n",
              "      <td>-0.380906</td>\n",
              "      <td>-0.458614</td>\n",
              "      <td>-0.051005</td>\n",
              "      <td>0.030426</td>\n",
              "      <td>-0.167423</td>\n",
              "      <td>-0.502542</td>\n",
              "      <td>-0.564448</td>\n",
              "      <td>0.061437</td>\n",
              "      <td>0.566125</td>\n",
              "    </tr>\n",
              "    <tr>\n",
              "      <th>average_wave_period_north</th>\n",
              "      <td>-0.308917</td>\n",
              "      <td>-0.212003</td>\n",
              "      <td>1.000000</td>\n",
              "      <td>0.126913</td>\n",
              "      <td>0.122192</td>\n",
              "      <td>0.955655</td>\n",
              "      <td>0.133831</td>\n",
              "      <td>0.115729</td>\n",
              "      <td>0.131299</td>\n",
              "      <td>-0.043722</td>\n",
              "      <td>0.983080</td>\n",
              "      <td>0.107699</td>\n",
              "      <td>0.116017</td>\n",
              "      <td>-0.191376</td>\n",
              "      <td>-0.100037</td>\n",
              "    </tr>\n",
              "    <tr>\n",
              "      <th>average_wave_period_nw</th>\n",
              "      <td>-0.197686</td>\n",
              "      <td>-0.423096</td>\n",
              "      <td>0.126913</td>\n",
              "      <td>1.000000</td>\n",
              "      <td>0.850864</td>\n",
              "      <td>0.032589</td>\n",
              "      <td>0.809565</td>\n",
              "      <td>0.784657</td>\n",
              "      <td>0.237806</td>\n",
              "      <td>0.072454</td>\n",
              "      <td>-0.043401</td>\n",
              "      <td>0.662646</td>\n",
              "      <td>0.634278</td>\n",
              "      <td>0.061624</td>\n",
              "      <td>-0.192458</td>\n",
              "    </tr>\n",
              "    <tr>\n",
              "      <th>average_wave_period_bay</th>\n",
              "      <td>-0.225944</td>\n",
              "      <td>-0.467939</td>\n",
              "      <td>0.122192</td>\n",
              "      <td>0.850864</td>\n",
              "      <td>1.000000</td>\n",
              "      <td>0.042933</td>\n",
              "      <td>0.732470</td>\n",
              "      <td>0.848551</td>\n",
              "      <td>0.250329</td>\n",
              "      <td>0.081844</td>\n",
              "      <td>-0.036937</td>\n",
              "      <td>0.650881</td>\n",
              "      <td>0.724458</td>\n",
              "      <td>0.075819</td>\n",
              "      <td>-0.189152</td>\n",
              "    </tr>\n",
              "    <tr>\n",
              "      <th>dominant_wave_period_north</th>\n",
              "      <td>-0.337122</td>\n",
              "      <td>-0.195827</td>\n",
              "      <td>0.955655</td>\n",
              "      <td>0.032589</td>\n",
              "      <td>0.042933</td>\n",
              "      <td>1.000000</td>\n",
              "      <td>0.087942</td>\n",
              "      <td>0.054341</td>\n",
              "      <td>0.109430</td>\n",
              "      <td>0.030161</td>\n",
              "      <td>0.991703</td>\n",
              "      <td>0.114199</td>\n",
              "      <td>0.124579</td>\n",
              "      <td>-0.078048</td>\n",
              "      <td>-0.168450</td>\n",
              "    </tr>\n",
              "    <tr>\n",
              "      <th>dominant_wave_period_nw</th>\n",
              "      <td>-0.212301</td>\n",
              "      <td>-0.380906</td>\n",
              "      <td>0.133831</td>\n",
              "      <td>0.809565</td>\n",
              "      <td>0.732470</td>\n",
              "      <td>0.087942</td>\n",
              "      <td>1.000000</td>\n",
              "      <td>0.816445</td>\n",
              "      <td>0.200829</td>\n",
              "      <td>0.074464</td>\n",
              "      <td>-0.001189</td>\n",
              "      <td>0.509419</td>\n",
              "      <td>0.507725</td>\n",
              "      <td>0.064654</td>\n",
              "      <td>-0.182130</td>\n",
              "    </tr>\n",
              "    <tr>\n",
              "      <th>dominant_wave_period_bay</th>\n",
              "      <td>-0.258550</td>\n",
              "      <td>-0.458614</td>\n",
              "      <td>0.115729</td>\n",
              "      <td>0.784657</td>\n",
              "      <td>0.848551</td>\n",
              "      <td>0.054341</td>\n",
              "      <td>0.816445</td>\n",
              "      <td>1.000000</td>\n",
              "      <td>0.241090</td>\n",
              "      <td>0.036949</td>\n",
              "      <td>-0.032991</td>\n",
              "      <td>0.568164</td>\n",
              "      <td>0.602415</td>\n",
              "      <td>0.038516</td>\n",
              "      <td>-0.175097</td>\n",
              "    </tr>\n",
              "    <tr>\n",
              "      <th>wave_height_tokyo</th>\n",
              "      <td>-0.146068</td>\n",
              "      <td>-0.051005</td>\n",
              "      <td>0.131299</td>\n",
              "      <td>0.237806</td>\n",
              "      <td>0.250329</td>\n",
              "      <td>0.109430</td>\n",
              "      <td>0.200829</td>\n",
              "      <td>0.241090</td>\n",
              "      <td>1.000000</td>\n",
              "      <td>0.542984</td>\n",
              "      <td>0.087176</td>\n",
              "      <td>0.215168</td>\n",
              "      <td>0.229209</td>\n",
              "      <td>0.838909</td>\n",
              "      <td>0.244510</td>\n",
              "    </tr>\n",
              "    <tr>\n",
              "      <th>wave_height_alaska</th>\n",
              "      <td>0.305434</td>\n",
              "      <td>0.030426</td>\n",
              "      <td>-0.043722</td>\n",
              "      <td>0.072454</td>\n",
              "      <td>0.081844</td>\n",
              "      <td>0.030161</td>\n",
              "      <td>0.074464</td>\n",
              "      <td>0.036949</td>\n",
              "      <td>0.542984</td>\n",
              "      <td>1.000000</td>\n",
              "      <td>0.026985</td>\n",
              "      <td>0.104035</td>\n",
              "      <td>0.129950</td>\n",
              "      <td>0.724372</td>\n",
              "      <td>0.015391</td>\n",
              "    </tr>\n",
              "    <tr>\n",
              "      <th>wave_height_north</th>\n",
              "      <td>-0.321588</td>\n",
              "      <td>-0.167423</td>\n",
              "      <td>0.983080</td>\n",
              "      <td>-0.043401</td>\n",
              "      <td>-0.036937</td>\n",
              "      <td>0.991703</td>\n",
              "      <td>-0.001189</td>\n",
              "      <td>-0.032991</td>\n",
              "      <td>0.087176</td>\n",
              "      <td>0.026985</td>\n",
              "      <td>1.000000</td>\n",
              "      <td>0.080449</td>\n",
              "      <td>0.084076</td>\n",
              "      <td>-0.088765</td>\n",
              "      <td>-0.152892</td>\n",
              "    </tr>\n",
              "    <tr>\n",
              "      <th>wave_height_nw</th>\n",
              "      <td>-0.237822</td>\n",
              "      <td>-0.502542</td>\n",
              "      <td>0.107699</td>\n",
              "      <td>0.662646</td>\n",
              "      <td>0.650881</td>\n",
              "      <td>0.114199</td>\n",
              "      <td>0.509419</td>\n",
              "      <td>0.568164</td>\n",
              "      <td>0.215168</td>\n",
              "      <td>0.104035</td>\n",
              "      <td>0.080449</td>\n",
              "      <td>1.000000</td>\n",
              "      <td>0.828044</td>\n",
              "      <td>0.054122</td>\n",
              "      <td>-0.185954</td>\n",
              "    </tr>\n",
              "    <tr>\n",
              "      <th>wave_height_bay</th>\n",
              "      <td>-0.324906</td>\n",
              "      <td>-0.564448</td>\n",
              "      <td>0.116017</td>\n",
              "      <td>0.634278</td>\n",
              "      <td>0.724458</td>\n",
              "      <td>0.124579</td>\n",
              "      <td>0.507725</td>\n",
              "      <td>0.602415</td>\n",
              "      <td>0.229209</td>\n",
              "      <td>0.129950</td>\n",
              "      <td>0.084076</td>\n",
              "      <td>0.828044</td>\n",
              "      <td>1.000000</td>\n",
              "      <td>0.093998</td>\n",
              "      <td>-0.180848</td>\n",
              "    </tr>\n",
              "    <tr>\n",
              "      <th>year</th>\n",
              "      <td>0.064282</td>\n",
              "      <td>0.061437</td>\n",
              "      <td>-0.191376</td>\n",
              "      <td>0.061624</td>\n",
              "      <td>0.075819</td>\n",
              "      <td>-0.078048</td>\n",
              "      <td>0.064654</td>\n",
              "      <td>0.038516</td>\n",
              "      <td>0.838909</td>\n",
              "      <td>0.724372</td>\n",
              "      <td>-0.088765</td>\n",
              "      <td>0.054122</td>\n",
              "      <td>0.093998</td>\n",
              "      <td>1.000000</td>\n",
              "      <td>-0.000196</td>\n",
              "    </tr>\n",
              "    <tr>\n",
              "      <th>month</th>\n",
              "      <td>0.419063</td>\n",
              "      <td>0.566125</td>\n",
              "      <td>-0.100037</td>\n",
              "      <td>-0.192458</td>\n",
              "      <td>-0.189152</td>\n",
              "      <td>-0.168450</td>\n",
              "      <td>-0.182130</td>\n",
              "      <td>-0.175097</td>\n",
              "      <td>0.244510</td>\n",
              "      <td>0.015391</td>\n",
              "      <td>-0.152892</td>\n",
              "      <td>-0.185954</td>\n",
              "      <td>-0.180848</td>\n",
              "      <td>-0.000196</td>\n",
              "      <td>1.000000</td>\n",
              "    </tr>\n",
              "  </tbody>\n",
              "</table>\n",
              "</div>\n",
              "      <button class=\"colab-df-convert\" onclick=\"convertToInteractive('df-6031e828-2a50-4175-a29f-2455d4de8c50')\"\n",
              "              title=\"Convert this dataframe to an interactive table.\"\n",
              "              style=\"display:none;\">\n",
              "        \n",
              "  <svg xmlns=\"http://www.w3.org/2000/svg\" height=\"24px\"viewBox=\"0 0 24 24\"\n",
              "       width=\"24px\">\n",
              "    <path d=\"M0 0h24v24H0V0z\" fill=\"none\"/>\n",
              "    <path d=\"M18.56 5.44l.94 2.06.94-2.06 2.06-.94-2.06-.94-.94-2.06-.94 2.06-2.06.94zm-11 1L8.5 8.5l.94-2.06 2.06-.94-2.06-.94L8.5 2.5l-.94 2.06-2.06.94zm10 10l.94 2.06.94-2.06 2.06-.94-2.06-.94-.94-2.06-.94 2.06-2.06.94z\"/><path d=\"M17.41 7.96l-1.37-1.37c-.4-.4-.92-.59-1.43-.59-.52 0-1.04.2-1.43.59L10.3 9.45l-7.72 7.72c-.78.78-.78 2.05 0 2.83L4 21.41c.39.39.9.59 1.41.59.51 0 1.02-.2 1.41-.59l7.78-7.78 2.81-2.81c.8-.78.8-2.07 0-2.86zM5.41 20L4 18.59l7.72-7.72 1.47 1.35L5.41 20z\"/>\n",
              "  </svg>\n",
              "      </button>\n",
              "      \n",
              "  <style>\n",
              "    .colab-df-container {\n",
              "      display:flex;\n",
              "      flex-wrap:wrap;\n",
              "      gap: 12px;\n",
              "    }\n",
              "\n",
              "    .colab-df-convert {\n",
              "      background-color: #E8F0FE;\n",
              "      border: none;\n",
              "      border-radius: 50%;\n",
              "      cursor: pointer;\n",
              "      display: none;\n",
              "      fill: #1967D2;\n",
              "      height: 32px;\n",
              "      padding: 0 0 0 0;\n",
              "      width: 32px;\n",
              "    }\n",
              "\n",
              "    .colab-df-convert:hover {\n",
              "      background-color: #E2EBFA;\n",
              "      box-shadow: 0px 1px 2px rgba(60, 64, 67, 0.3), 0px 1px 3px 1px rgba(60, 64, 67, 0.15);\n",
              "      fill: #174EA6;\n",
              "    }\n",
              "\n",
              "    [theme=dark] .colab-df-convert {\n",
              "      background-color: #3B4455;\n",
              "      fill: #D2E3FC;\n",
              "    }\n",
              "\n",
              "    [theme=dark] .colab-df-convert:hover {\n",
              "      background-color: #434B5C;\n",
              "      box-shadow: 0px 1px 3px 1px rgba(0, 0, 0, 0.15);\n",
              "      filter: drop-shadow(0px 1px 2px rgba(0, 0, 0, 0.3));\n",
              "      fill: #FFFFFF;\n",
              "    }\n",
              "  </style>\n",
              "\n",
              "      <script>\n",
              "        const buttonEl =\n",
              "          document.querySelector('#df-6031e828-2a50-4175-a29f-2455d4de8c50 button.colab-df-convert');\n",
              "        buttonEl.style.display =\n",
              "          google.colab.kernel.accessAllowed ? 'block' : 'none';\n",
              "\n",
              "        async function convertToInteractive(key) {\n",
              "          const element = document.querySelector('#df-6031e828-2a50-4175-a29f-2455d4de8c50');\n",
              "          const dataTable =\n",
              "            await google.colab.kernel.invokeFunction('convertToInteractive',\n",
              "                                                     [key], {});\n",
              "          if (!dataTable) return;\n",
              "\n",
              "          const docLinkHtml = 'Like what you see? Visit the ' +\n",
              "            '<a target=\"_blank\" href=https://colab.research.google.com/notebooks/data_table.ipynb>data table notebook</a>'\n",
              "            + ' to learn more about interactive tables.';\n",
              "          element.innerHTML = '';\n",
              "          dataTable['output_type'] = 'display_data';\n",
              "          await google.colab.output.renderOutput(dataTable, element);\n",
              "          const docLink = document.createElement('div');\n",
              "          docLink.innerHTML = docLinkHtml;\n",
              "          element.appendChild(docLink);\n",
              "        }\n",
              "      </script>\n",
              "    </div>\n",
              "  </div>\n",
              "  "
            ]
          },
          "metadata": {},
          "execution_count": 14
        }
      ],
      "source": [
        "# Note: these are linear relationships, we expect that we might see some non-linear relationships\n",
        "data_wide.corr()"
      ]
    },
    {
      "cell_type": "markdown",
      "metadata": {
        "id": "BvBTHhSexgLT"
      },
      "source": [
        "# **Feature Engineering**"
      ]
    },
    {
      "cell_type": "code",
      "execution_count": 15,
      "metadata": {
        "id": "YySe66auxgLT"
      },
      "outputs": [],
      "source": [
        "full_feature_list = list(data_wide.columns)\n",
        "\n",
        "full_feature_list.remove('date')\n",
        "full_feature_list.remove('wave_height_bay')\n",
        "\n",
        "target_variable = 'wave_height_bay'"
      ]
    },
    {
      "cell_type": "markdown",
      "metadata": {
        "id": "63VUrojAxgLT"
      },
      "source": [
        "## Imputing Data"
      ]
    },
    {
      "cell_type": "code",
      "execution_count": 16,
      "metadata": {
        "id": "n_w6YobUxgLT"
      },
      "outputs": [],
      "source": [
        "# Imputing Missing Data with Median Value\n",
        "data_wide['wave_height_tokyo'] = data_wide['wave_height_tokyo'].fillna(data_wide['wave_height_tokyo'].median())\n",
        "data_wide['wave_height_alaska'] = data_wide['wave_height_alaska'].fillna(data_wide['wave_height_alaska'].median())"
      ]
    },
    {
      "cell_type": "markdown",
      "metadata": {
        "id": "D3nV9x04xgLT"
      },
      "source": [
        "## Categorizing Features"
      ]
    },
    {
      "cell_type": "code",
      "execution_count": 17,
      "metadata": {
        "id": "Ke8SROVKxgLT"
      },
      "outputs": [],
      "source": [
        "# We take the numeric variables and turn them into categorical variables by quantile\n",
        "hawaii_beacons = ['air_temp_north', 'average_wave_period_north', 'dominant_wave_period_north','wave_height_north',\n",
        "                  'air_temp_nw', 'average_wave_period_nw', 'wave_height_nw', 'dominant_wave_period_nw']\n",
        "\n",
        "def label_quintiles(df, feature_name):\n",
        "    df[feature_name + '_quantile'] = pd.qcut(df[feature_name], 5, labels = False)\n",
        "    df[feature_name + '_quantile'] = df[feature_name + '_quantile'] + 1\n",
        "    return df"
      ]
    },
    {
      "cell_type": "code",
      "execution_count": 18,
      "metadata": {
        "id": "j1_VqTRMxgLT"
      },
      "outputs": [],
      "source": [
        "# If a data point is missing, we make the quantile for that data point negative one\n",
        "for feature in hawaii_beacons:\n",
        "    data_wide = label_quintiles(data_wide, feature)\n",
        "    data_wide[feature + '_quantile'] = np.where(data_wide[feature].isnull(), -1, data_wide[feature + '_quantile'])\n",
        "    full_feature_list.remove(feature)\n",
        "    full_feature_list.append(feature + '_quantile')"
      ]
    },
    {
      "cell_type": "markdown",
      "metadata": {
        "id": "uQsLsSXSxgLU"
      },
      "source": [
        "## Target Variable Engineering"
      ]
    },
    {
      "cell_type": "markdown",
      "metadata": {
        "id": "dEO7oc5BxgLU"
      },
      "source": [
        "### Categorization"
      ]
    },
    {
      "cell_type": "code",
      "execution_count": 19,
      "metadata": {
        "colab": {
          "base_uri": "https://localhost:8080/"
        },
        "id": "WXZ4KEtVxgLU",
        "outputId": "64b684b8-1d3e-4bd4-e873-5c00176b973c"
      },
      "outputs": [
        {
          "output_type": "execute_result",
          "data": {
            "text/plain": [
              "0    2745\n",
              "1     177\n",
              "Name: wave_height_bay_cat, dtype: int64"
            ]
          },
          "metadata": {},
          "execution_count": 19
        }
      ],
      "source": [
        "data_wide[target_variable + '_cat'] = np.where(data_wide[target_variable] >= 3, 1, 0)\n",
        "data_wide[target_variable + '_cat'].value_counts()"
      ]
    },
    {
      "cell_type": "markdown",
      "metadata": {
        "id": "q2vzN3NIxgLU"
      },
      "source": [
        "### Dropping Null Values (for target variable only)\n",
        "\n",
        "_NOTE: New DF Name_"
      ]
    },
    {
      "cell_type": "code",
      "execution_count": 20,
      "metadata": {
        "id": "13SBuy92xgLU"
      },
      "outputs": [],
      "source": [
        "model_df = data_wide[data_wide.wave_height_bay.notnull()]"
      ]
    },
    {
      "cell_type": "markdown",
      "metadata": {
        "id": "5blaP17PxgLU"
      },
      "source": [
        "### New Target Variable"
      ]
    },
    {
      "cell_type": "code",
      "execution_count": 21,
      "metadata": {
        "id": "FNJhoo0exgLU"
      },
      "outputs": [],
      "source": [
        "target_variable = 'wave_height_bay_cat'"
      ]
    },
    {
      "cell_type": "markdown",
      "metadata": {
        "id": "_evUxEcixgLY"
      },
      "source": [
        "# **Model Implementation**"
      ]
    },
    {
      "cell_type": "markdown",
      "metadata": {
        "id": "KhX71IcBxgLY"
      },
      "source": [
        "## Feature Prep"
      ]
    },
    {
      "cell_type": "code",
      "execution_count": 22,
      "metadata": {
        "colab": {
          "base_uri": "https://localhost:8080/",
          "height": 125
        },
        "id": "L-0Mtm2sxgLY",
        "outputId": "4892d29d-4e83-46d2-a22a-4d779333f3c7"
      },
      "outputs": [
        {
          "output_type": "execute_result",
          "data": {
            "text/plain": [
              "'\\nmodel_df[\\'air_temp_north_quantile\\'] = model_df[\\'air_temp_north_quantile\\'].astype(\"str\")\\nmodel_df[\\'average_wave_period_north_quantile\\'] = model_df[\\'average_wave_period_north_quantile\\'].astype(\"str\")\\nmodel_df[\\'dominant_wave_period_north_quantile\\'] = model_df[\\'dominant_wave_period_north_quantile\\'].astype(\"str\")\\nmodel_df[\\'wave_height_north_quantile\\'] = model_df[\\'wave_height_north_quantile\\'].astype(\"str\")\\nmodel_df[\\'air_temp_nw_quantile\\'] = model_df[\\'air_temp_nw_quantile\\'].astype(\"str\")\\nmodel_df[\\'average_wave_period_nw_quantile\\'] = model_df[\\'average_wave_period_nw_quantile\\'].astype(\"str\")\\nmodel_df[\\'wave_height_nw_quantile\\'] = model_df[\\'wave_height_nw_quantile\\'].astype(\"str\")\\nmodel_df[\\'dominant_wave_period_nw_quantile\\'] = model_df[\\'dominant_wave_period_nw_quantile\\'].astype(\"str\")\\n'"
            ],
            "application/vnd.google.colaboratory.intrinsic+json": {
              "type": "string"
            }
          },
          "metadata": {},
          "execution_count": 22
        }
      ],
      "source": [
        "# We want to make these categorical (as intended), but xgboost via sklearn does not support categorical variables at this time\n",
        "# XGBoost implemented via Spark does, but for prototyping, we use sklearn for speed\n",
        "\n",
        "'''\n",
        "model_df['air_temp_north_quantile'] = model_df['air_temp_north_quantile'].astype(\"str\")\n",
        "model_df['average_wave_period_north_quantile'] = model_df['average_wave_period_north_quantile'].astype(\"str\")\n",
        "model_df['dominant_wave_period_north_quantile'] = model_df['dominant_wave_period_north_quantile'].astype(\"str\")\n",
        "model_df['wave_height_north_quantile'] = model_df['wave_height_north_quantile'].astype(\"str\")\n",
        "model_df['air_temp_nw_quantile'] = model_df['air_temp_nw_quantile'].astype(\"str\")\n",
        "model_df['average_wave_period_nw_quantile'] = model_df['average_wave_period_nw_quantile'].astype(\"str\")\n",
        "model_df['wave_height_nw_quantile'] = model_df['wave_height_nw_quantile'].astype(\"str\")\n",
        "model_df['dominant_wave_period_nw_quantile'] = model_df['dominant_wave_period_nw_quantile'].astype(\"str\")\n",
        "'''"
      ]
    },
    {
      "cell_type": "markdown",
      "metadata": {
        "id": "aizbUxsPxgLY"
      },
      "source": [
        "## Model Implementation - Current Conditions\n",
        "\n",
        "_NOTE: for an initial attempt, our model identifies the relationship between current conditions and current wave height. Ultimately we want to adapt this model to identify the relationship between current conditions and **future** wave height_"
      ]
    },
    {
      "cell_type": "code",
      "execution_count": 33,
      "metadata": {
        "id": "o5ljOz8yxgLY"
      },
      "outputs": [],
      "source": [
        "# Shuffle dataframe\n",
        "model_df = model_df.sample(frac=1)\n",
        "\n",
        "# Initial data and model\n",
        "X = model_df[full_feature_list]\n",
        "y = model_df[target_variable]\n",
        "\n",
        "xgb_model = xgb.XGBClassifier(n_estimators = 1000,\n",
        "                              objective=\"binary:logitraw\",\n",
        "                              max_depth = 5)"
      ]
    },
    {
      "cell_type": "code",
      "execution_count": 34,
      "metadata": {
        "colab": {
          "base_uri": "https://localhost:8080/"
        },
        "id": "MJzQ69-NxgLY",
        "outputId": "83dc18f0-191e-4c6a-fc18-a67449d2050e"
      },
      "outputs": [
        {
          "output_type": "execute_result",
          "data": {
            "text/plain": [
              "0.7112696734789759"
            ]
          },
          "metadata": {},
          "execution_count": 34
        }
      ],
      "source": [
        "# Train model with three fold Cross Validation\n",
        "precisions = cross_val_score(xgb_model, X, y, scoring = 'precision', cv = 3)\n",
        "\n",
        "precisions.mean()"
      ]
    },
    {
      "cell_type": "markdown",
      "metadata": {
        "id": "CEYo9Li6xgLY"
      },
      "source": [
        "## Model Analysis - Current Conditions"
      ]
    },
    {
      "cell_type": "code",
      "execution_count": 25,
      "metadata": {
        "id": "w2K7Aa24xgLY"
      },
      "outputs": [],
      "source": [
        "X['year'] = X['year'].astype('float')\n",
        "X['month'] = X['month'].astype('float')\n",
        "\n",
        "xgb_model.fit(X, y)\n",
        "explainer = shap.TreeExplainer(xgb_model)\n",
        "shap_values = explainer.shap_values(X)\n",
        "shap_means = np.mean(shap_values, axis=0)"
      ]
    },
    {
      "cell_type": "code",
      "source": [
        "shap.summary_plot(shap_values, X)"
      ],
      "metadata": {
        "colab": {
          "base_uri": "https://localhost:8080/",
          "height": 711
        },
        "id": "CAajMmxUyYk5",
        "outputId": "e8e2ff3c-8a20-4ff1-af78-fb8d86571f27"
      },
      "execution_count": 26,
      "outputs": [
        {
          "output_type": "display_data",
          "data": {
            "text/plain": [
              "<Figure size 800x710 with 2 Axes>"
            ],
            "image/png": "[encoded data removed]"
          },
          "metadata": {}
        }
      ]
    },
    {
      "cell_type": "code",
      "source": [
        "plt.bar(list(X.columns), shap_means)\n",
        "plt.xticks(rotation=90, ha='right')\n",
        "plt.title('Mean SHAP Value by Feature')\n",
        "plt.show()"
      ],
      "metadata": {
        "colab": {
          "base_uri": "https://localhost:8080/",
          "height": 738
        },
        "id": "trUA0ar-0mHX",
        "outputId": "b628c27f-9b6e-4ed6-ef48-bd36130f1510"
      },
      "execution_count": 27,
      "outputs": [
        {
          "output_type": "display_data",
          "data": {
            "text/plain": [
              "<Figure size 640x480 with 1 Axes>"
            ],
            "image/png": "[encoded data removed]"
          },
          "metadata": {}
        }
      ]
    },
    {
      "cell_type": "markdown",
      "source": [
        "# **Environment Tidy Up**"
      ],
      "metadata": {
        "id": "v-Hgy29J2S-Z"
      }
    },
    {
      "cell_type": "code",
      "source": [
        "!pip freeze > requirements.txt"
      ],
      "metadata": {
        "id": "d51GGfjr2TNX"
      },
      "execution_count": 28,
      "outputs": []
    }
  ],
  "metadata": {
    "kernelspec": {
      "display_name": "Python 3",
      "language": "python",
      "name": "python3"
    },
    "language_info": {
      "codemirror_mode": {
        "name": "ipython",
        "version": 3
      },
      "file_extension": ".py",
      "mimetype": "text/x-python",
      "name": "python",
      "nbconvert_exporter": "python",
      "pygments_lexer": "ipython3",
      "version": "3.11.4"
    },
    "orig_nbformat": 4,
    "colab": {
      "provenance": []
    }
  },
  "nbformat": 4,
  "nbformat_minor": 0
}